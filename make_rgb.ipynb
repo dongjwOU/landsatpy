{
 "metadata": {
  "name": "",
  "signature": "sha256:c5cb45568e28b9f8cae715c99c7eb1f85b55b724dccf95be72c8f740f0c990fb"
 },
 "nbformat": 3,
 "nbformat_minor": 0,
 "worksheets": [
  {
   "cells": [
    {
     "cell_type": "code",
     "collapsed": false,
     "input": [
      "from bands import *\n",
      "\n",
      "blue = get_blue()\n",
      "green = get_green()\n",
      "red = get_red()"
     ],
     "language": "python",
     "metadata": {},
     "outputs": [
      {
       "output_type": "stream",
       "stream": "stdout",
       "text": [
        "/home/nicholas/Documents/data/LC8/199/024/LC81990242013280LGN00/LC81990242013280LGN00_BT_B10.nc\n",
        "/home/nicholas/Documents/data/LC8/199/024/LC81990242013280LGN00/LC81990242013280LGN00_rrc_483.nc"
       ]
      },
      {
       "output_type": "stream",
       "stream": "stdout",
       "text": [
        "\n",
        "/home/nicholas/Documents/data/LC8/199/024/LC81990242013280LGN00/LC81990242013280LGN00_rrc_561.nc"
       ]
      },
      {
       "output_type": "stream",
       "stream": "stdout",
       "text": [
        "\n",
        "/home/nicholas/Documents/data/LC8/199/024/LC81990242013280LGN00/LC81990242013280LGN00_rrc_655.nc"
       ]
      },
      {
       "output_type": "stream",
       "stream": "stdout",
       "text": [
        "\n"
       ]
      }
     ],
     "prompt_number": 1
    },
    {
     "cell_type": "code",
     "collapsed": false,
     "input": [
      "from views import create_composite\n",
      "img = create_composite(red, green, blue)"
     ],
     "language": "python",
     "metadata": {},
     "outputs": [],
     "prompt_number": 2
    },
    {
     "cell_type": "code",
     "collapsed": false,
     "input": [
      "from matplotlib import pyplot as plt\n",
      "plt.imshow(img)"
     ],
     "language": "python",
     "metadata": {},
     "outputs": [
      {
       "metadata": {},
       "output_type": "pyout",
       "prompt_number": 3,
       "text": [
        "<matplotlib.image.AxesImage at 0x7fbe3ca29e80>"
       ]
      }
     ],
     "prompt_number": 3
    },
    {
     "cell_type": "code",
     "collapsed": false,
     "input": [
      "plt.show()"
     ],
     "language": "python",
     "metadata": {},
     "outputs": [],
     "prompt_number": 4
    },
    {
     "cell_type": "code",
     "collapsed": false,
     "input": [
      "from skimage import exposure\n",
      "img_rescale = exposure.rescale_intensity(img, (0, 95))"
     ],
     "language": "python",
     "metadata": {},
     "outputs": [],
     "prompt_number": 5
    },
    {
     "cell_type": "code",
     "collapsed": false,
     "input": [
      "plt.imshow(img_rescale)\n",
      "plt.show()"
     ],
     "language": "python",
     "metadata": {},
     "outputs": [],
     "prompt_number": 6
    },
    {
     "cell_type": "code",
     "collapsed": false,
     "input": [],
     "language": "python",
     "metadata": {},
     "outputs": []
    }
   ],
   "metadata": {}
  }
 ]
}